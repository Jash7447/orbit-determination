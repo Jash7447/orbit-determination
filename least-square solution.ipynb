{
 "cells": [
  {
   "cell_type": "code",
   "execution_count": 1,
   "id": "ecfbd77d",
   "metadata": {},
   "outputs": [],
   "source": [
    "#Input Data\n",
    "theta = [0.82, 1.05, 1.45, 1.74, 2.18]\n",
    "r = [2.92, 2.26, 1.71, 1.73, 1.04]"
   ]
  },
  {
   "cell_type": "code",
   "execution_count": 2,
   "id": "939427b0",
   "metadata": {},
   "outputs": [],
   "source": [
    "import numpy as np"
   ]
  },
  {
   "cell_type": "code",
   "execution_count": 3,
   "id": "6bf86adb",
   "metadata": {},
   "outputs": [],
   "source": [
    "def soln(r,theta):\n",
    "    A = []\n",
    "    B = []\n",
    "    for i in range(len(r)):\n",
    "        A.append([1, r[i]*np.cos(theta[i])])\n",
    "        B.append([r[i]])\n",
    "    \n",
    "    def zero(row,col):\n",
    "        zero = []\n",
    "        for i in range(row):\n",
    "            k = []\n",
    "            for j in range(col):\n",
    "                k.append(0)\n",
    "            zero.append(k)\n",
    "        return zero\n",
    "\n",
    "    def trans(X):\n",
    "        trans = zero(len(X[0]),len(X))\n",
    "        for i in range(len(X[0])):\n",
    "            for j in range(len(X)):\n",
    "                trans[i][j] = X[j][i]\n",
    "        return trans\n",
    "\n",
    "    def mul(A,B):\n",
    "        mul = zero(len(A),len(B[0]))\n",
    "        for i in range(len(A)):\n",
    "            for j in range(len(B[0])):\n",
    "                for k in range(len(B)):\n",
    "                    mul[i][j] += A[i][k] * B[k][j]\n",
    "        return mul\n",
    "\n",
    "    def inv(X):\n",
    "        k = X[0][0]*X[1][1] - X[0][1]*X[1][0]\n",
    "        inv = [[X[1][1]/k, -1*X[0][1]/k], [ -1*X[1][0]/k, X[0][0]/k]]\n",
    "        return inv\n",
    "    \n",
    "    return mul(inv(mul(trans(A),A)),mul(trans(A),B))\n",
    "\n",
    "def orbit(e):\n",
    "    if e == 1:\n",
    "        orb = 'Parabolic'\n",
    "    elif e > 1:\n",
    "        orb = 'Hyperbolic'\n",
    "    elif e<1 and e>=0:\n",
    "        orb = 'Elliptical'\n",
    "    else :\n",
    "        orb = 'Error in Eccentricity'\n",
    "    return orb"
   ]
  },
  {
   "cell_type": "code",
   "execution_count": 4,
   "id": "d230157e",
   "metadata": {},
   "outputs": [
    {
     "name": "stdout",
     "output_type": "stream",
     "text": [
      "Type of Orbit : Elliptical\n"
     ]
    }
   ],
   "source": [
    "beta = soln(r,theta)[0][0]\n",
    "e = soln(r,theta)[1][0]\n",
    "print('Type of Orbit :', orbit(e))"
   ]
  },
  {
   "cell_type": "code",
   "execution_count": 5,
   "id": "41a43314",
   "metadata": {},
   "outputs": [
    {
     "data": {
      "text/plain": [
       "1.513902455146894"
      ]
     },
     "execution_count": 5,
     "metadata": {},
     "output_type": "execute_result"
    }
   ],
   "source": [
    "alpha = 4.6\n",
    "r = beta/(1-e*np.cos(alpha))\n",
    "r"
   ]
  }
 ],
 "metadata": {
  "kernelspec": {
   "display_name": "Python 3 (ipykernel)",
   "language": "python",
   "name": "python3"
  },
  "language_info": {
   "codemirror_mode": {
    "name": "ipython",
    "version": 3
   },
   "file_extension": ".py",
   "mimetype": "text/x-python",
   "name": "python",
   "nbconvert_exporter": "python",
   "pygments_lexer": "ipython3",
   "version": "3.10.6"
  },
  "vscode": {
   "interpreter": {
    "hash": "8f018bffbcf47056ef67fa8428abb0d25a90dd78acae1a5661b733b47c4c4bb7"
   }
  }
 },
 "nbformat": 4,
 "nbformat_minor": 5
}
